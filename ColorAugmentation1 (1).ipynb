{
  "nbformat": 4,
  "nbformat_minor": 0,
  "metadata": {
    "colab": {
      "provenance": [],
      "collapsed_sections": []
    },
    "kernelspec": {
      "name": "python3",
      "display_name": "Python 3"
    },
    "language_info": {
      "name": "python"
    }
  },
  "cells": [
    {
      "cell_type": "code",
      "source": [
        "from google.colab import drive\n",
        "drive.mount('/content/drive')"
      ],
      "metadata": {
        "colab": {
          "base_uri": "https://localhost:8080/"
        },
        "id": "K2FY_6VAvbio",
        "outputId": "ec85f5b5-ba35-4aac-d84c-9fbf4accf5bc"
      },
      "execution_count": null,
      "outputs": [
        {
          "output_type": "stream",
          "name": "stdout",
          "text": [
            "Drive already mounted at /content/drive; to attempt to forcibly remount, call drive.mount(\"/content/drive\", force_remount=True).\n"
          ]
        }
      ]
    },
    {
      "cell_type": "code",
      "source": [
        "import os \n",
        "import cv2\n",
        "import torch  \n",
        "import glob\n",
        "import numpy as np \n",
        "import pandas as pd\n",
        "import matplotlib.pyplot as plt\n",
        "from PIL import Image\n",
        "\n",
        "import torchvision\n",
        "%matplotlib inline\n",
        "\n",
        "path=glob.glob('/content/drive/MyDrive/Sample_Images/*.jpg')\n",
        "for file in path:\n",
        "  #img=Image.open(file)\n",
        "  print(file)\n",
        "  #color_jitter = torchvision.transforms.ColorJitter(hue= 0.2)\n",
        "  #HueImage= color_jitter(img)\n",
        "  #color_jitter = torchvision.transforms.ColorJitter(contrast=4)\n",
        "  #ContrastImg = color_jitter(img)\n",
        "  #plt.imshow(HueImage)\n",
        "  #plt.imshow(ContrastImg)\n",
        "  \n",
        "\n",
        "  #print(file)\n",
        "   "
      ],
      "metadata": {
        "colab": {
          "base_uri": "https://localhost:8080/"
        },
        "id": "3qLQK_mKzDXj",
        "outputId": "bc00ac5b-bad1-4108-f5ed-84b142f9d59b"
      },
      "execution_count": null,
      "outputs": [
        {
          "output_type": "stream",
          "name": "stdout",
          "text": [
            "/content/drive/MyDrive/Sample_Images/prince.abraham@aecom.com--vlcsnap-2022-08-22-08h48m14s066--24-08-2022.jpg\n",
            "/content/drive/MyDrive/Sample_Images/prince.abraham@aecom.com--vlcsnap-2022-08-22-08h48m18s271--24-08-2022.jpg\n",
            "/content/drive/MyDrive/Sample_Images/prince.abraham@aecom.com--vlcsnap-2022-08-22-09h23m53s571--24-08-2022.jpg\n",
            "/content/drive/MyDrive/Sample_Images/prince.abraham@aecom.com--vlcsnap-2022-08-22-09h23m55s273--24-08-2022.jpg\n",
            "/content/drive/MyDrive/Sample_Images/prince.abraham@aecom.com--vlcsnap-2022-08-22-09h23m57s275--24-08-2022.jpg\n",
            "/content/drive/MyDrive/Sample_Images/prince.abraham@aecom.com--vlcsnap-2022-08-22-09h23m57s919--24-08-2022.jpg\n",
            "/content/drive/MyDrive/Sample_Images/prince.abraham@aecom.com--vlcsnap-2022-08-22-09h23m58s208--24-08-2022.jpg\n",
            "/content/drive/MyDrive/Sample_Images/prince.abraham@aecom.com--vlcsnap-2022-08-22-09h24m00s230--24-08-2022.jpg\n",
            "/content/drive/MyDrive/Sample_Images/prince.abraham@aecom.com--vlcsnap-2022-08-22-09h24m01s033--24-08-2022.jpg\n"
          ]
        }
      ]
    },
    {
      "cell_type": "code",
      "source": [
        "dest_path ='/content/drive/MyDrive/Augmented_Images'\n",
        "for imagefile in path:\n",
        "  img = Image.open(imagefile)\n",
        "  image_name = imagefile.split('/')[-1]\n",
        "  image_file_name = image_name.rstrip('.jpg')\n",
        "\n",
        "## Grayscle variation\n",
        "  gray = torchvision.transforms.Grayscale(num_output_channels=1)\n",
        "  imge = gray(img)\n",
        "  imge.save(dest_path+'/'+ image_name +'_grey'+'.jpg')\n",
        "\n",
        "## Hue Variation\n",
        "  color_jitter = torchvision.transforms.ColorJitter(hue= 0.4)\n",
        "  imge = color_jitter(img)\n",
        "  imge.save(dest_path+'/'+ image_name +'_Hue'+'.jpg')\n",
        "\n",
        "## contrast variation\n",
        "  color_jitter = torchvision.transforms.ColorJitter(contrast=6)\n",
        "  imge = color_jitter(img)\n",
        "  imge.save(dest_path+'/'+ image_name +'_Contrast'+'.jpg')\n",
        "\n",
        "## Saturation Variation\n",
        "  color_jitter = torchvision.transforms.ColorJitter(saturation=5)\n",
        "  imge = color_jitter(img)\n",
        "  imge.save(dest_path+'/'+ image_name +'_Saturation'+'.jpg')\n",
        "\n",
        "## Brightness variation\n",
        "  color_jitter = torchvision.transforms.ColorJitter(brightness=8)\n",
        "  imge = color_jitter(img)\n",
        "  imge.save(dest_path+'/'+ image_name +'_Brightness'+'.jpg')"
      ],
      "metadata": {
        "id": "UMpXM3Ar2HOh"
      },
      "execution_count": null,
      "outputs": []
    }
  ]
}